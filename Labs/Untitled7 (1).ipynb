{
  "nbformat": 4,
  "nbformat_minor": 0,
  "metadata": {
    "colab": {
      "provenance": []
    },
    "kernelspec": {
      "name": "python3",
      "display_name": "Python 3"
    },
    "language_info": {
      "name": "python"
    }
  },
  "cells": [
    {
      "cell_type": "code",
      "execution_count": 1,
      "metadata": {
        "colab": {
          "base_uri": "https://localhost:8080/"
        },
        "id": "k9yEDvh_qUdh",
        "outputId": "69f89af6-cb44-4108-a761-37f389e0e14e"
      },
      "outputs": [
        {
          "output_type": "stream",
          "name": "stdout",
          "text": [
            "Collecting pyowm\n",
            "  Downloading pyowm-3.3.0-py3-none-any.whl (4.5 MB)\n",
            "\u001b[2K     \u001b[90m━━━━━━━━━━━━━━━━━━━━━━━━━━━━━━━━━━━━━━━━\u001b[0m \u001b[32m4.5/4.5 MB\u001b[0m \u001b[31m18.7 MB/s\u001b[0m eta \u001b[36m0:00:00\u001b[0m\n",
            "\u001b[?25hRequirement already satisfied: requests<3,>=2.20.0 in /usr/local/lib/python3.10/dist-packages (from pyowm) (2.31.0)\n",
            "Collecting geojson<3,>=2.3.0 (from pyowm)\n",
            "  Downloading geojson-2.5.0-py2.py3-none-any.whl (14 kB)\n",
            "Requirement already satisfied: PySocks<2,>=1.7.1 in /usr/local/lib/python3.10/dist-packages (from pyowm) (1.7.1)\n",
            "Requirement already satisfied: charset-normalizer<4,>=2 in /usr/local/lib/python3.10/dist-packages (from requests<3,>=2.20.0->pyowm) (3.3.2)\n",
            "Requirement already satisfied: idna<4,>=2.5 in /usr/local/lib/python3.10/dist-packages (from requests<3,>=2.20.0->pyowm) (3.6)\n",
            "Requirement already satisfied: urllib3<3,>=1.21.1 in /usr/local/lib/python3.10/dist-packages (from requests<3,>=2.20.0->pyowm) (2.0.7)\n",
            "Requirement already satisfied: certifi>=2017.4.17 in /usr/local/lib/python3.10/dist-packages (from requests<3,>=2.20.0->pyowm) (2023.11.17)\n",
            "Installing collected packages: geojson, pyowm\n",
            "Successfully installed geojson-2.5.0 pyowm-3.3.0\n"
          ]
        }
      ],
      "source": [
        "!pip install pyowm"
      ]
    },
    {
      "cell_type": "code",
      "source": [
        "!pip install telebot"
      ],
      "metadata": {
        "colab": {
          "base_uri": "https://localhost:8080/"
        },
        "id": "NsOt5yQaqafH",
        "outputId": "8056c82c-6752-4d7e-fadc-04d19f2e6f11"
      },
      "execution_count": 2,
      "outputs": [
        {
          "output_type": "stream",
          "name": "stdout",
          "text": [
            "Collecting telebot\n",
            "  Downloading telebot-0.0.5-py3-none-any.whl (4.8 kB)\n",
            "Collecting pyTelegramBotAPI (from telebot)\n",
            "  Downloading pyTelegramBotAPI-4.14.1.tar.gz (244 kB)\n",
            "\u001b[?25l     \u001b[90m━━━━━━━━━━━━━━━━━━━━━━━━━━━━━━━━━━━━━━━━\u001b[0m \u001b[32m0.0/244.2 kB\u001b[0m \u001b[31m?\u001b[0m eta \u001b[36m-:--:--\u001b[0m\r\u001b[2K     \u001b[90m━━━━━━━━━━━━━━━━━━━━━━━━━━━━━━━━━━━━━━━━\u001b[0m \u001b[32m244.2/244.2 kB\u001b[0m \u001b[31m7.5 MB/s\u001b[0m eta \u001b[36m0:00:00\u001b[0m\n",
            "\u001b[?25h  Preparing metadata (setup.py) ... \u001b[?25l\u001b[?25hdone\n",
            "Requirement already satisfied: requests in /usr/local/lib/python3.10/dist-packages (from telebot) (2.31.0)\n",
            "Requirement already satisfied: charset-normalizer<4,>=2 in /usr/local/lib/python3.10/dist-packages (from requests->telebot) (3.3.2)\n",
            "Requirement already satisfied: idna<4,>=2.5 in /usr/local/lib/python3.10/dist-packages (from requests->telebot) (3.6)\n",
            "Requirement already satisfied: urllib3<3,>=1.21.1 in /usr/local/lib/python3.10/dist-packages (from requests->telebot) (2.0.7)\n",
            "Requirement already satisfied: certifi>=2017.4.17 in /usr/local/lib/python3.10/dist-packages (from requests->telebot) (2023.11.17)\n",
            "Building wheels for collected packages: pyTelegramBotAPI\n",
            "  Building wheel for pyTelegramBotAPI (setup.py) ... \u001b[?25l\u001b[?25hdone\n",
            "  Created wheel for pyTelegramBotAPI: filename=pyTelegramBotAPI-4.14.1-py3-none-any.whl size=215662 sha256=e56121d90a6c01aca12d7b77011f8a477c7dcacde18814bd3b0a2e4d1379ae5a\n",
            "  Stored in directory: /root/.cache/pip/wheels/81/0e/bd/a68932e0d60008ec3eb11ae056e6d527af5ec9749922cd5a08\n",
            "Successfully built pyTelegramBotAPI\n",
            "Installing collected packages: pyTelegramBotAPI, telebot\n",
            "Successfully installed pyTelegramBotAPI-4.14.1 telebot-0.0.5\n"
          ]
        }
      ]
    },
    {
      "cell_type": "code",
      "source": [
        "import telebot\n",
        "from pyowm import *"
      ],
      "metadata": {
        "id": "144tuxaPqwqJ"
      },
      "execution_count": 4,
      "outputs": []
    },
    {
      "cell_type": "code",
      "source": [
        "# owm - создаем подключение по Ключу к сервиску openweather\n",
        "owm = OWM('bd5e378503939ddaee76f12ad7a97608')\n",
        "\n",
        "# bot - создаем подключение по токену к боту\n",
        "bot = telebot.TeleBot('6615988695:AAF9qkxs3RMqROx68pA5Hi_Bpo2Dqyqiwkc')\n",
        "\n",
        "# mgr - создаем обьект для выполнения и отправки запросов к openweather\n",
        "mgr = owm.weather_manager()\n",
        "\n",
        "stroka = ''\n",
        "@bot.message_handler(content_types=['text'])\n",
        "# Функция, которая срабатывает при старте бота\n",
        "def start(message):\n",
        "    if message.text == '/help':\n",
        "        bot.send_message(message.from_user.id, \"Введите город и страну в формате - San Francisco, US\");\n",
        "        bot.register_next_step_handler(message, check); #следующий шаг – функция get_name\n",
        "    else:\n",
        "        bot.send_message(message.from_user.id, 'Напиши /help');\n",
        "\n",
        "# Функция для проверки введенных данных и созданию системной кнопки, чтобы продолжитьи и вывести прогноз погоды\n",
        "def check(message):\n",
        "    global stroka;\n",
        "    stroka = message.text;\n",
        "    bot.send_message(message.from_user.id, \"Подтвердите свои действия.\")\n",
        "    keyboard = telebot.types.InlineKeyboardMarkup(); #наша клавиатура\n",
        "    key_yes = telebot.types.InlineKeyboardButton(text='Да', callback_data='yes'); #кнопка «Да»\n",
        "    keyboard.add(key_yes); #добавляем кнопку в клавиатуру\n",
        "    question = 'Вы ввели ' + stroka;\n",
        "    bot.send_message(message.from_user.id, text=question, reply_markup=keyboard)\n",
        "\n",
        "# Обработчик нажатия, если человек подтвердил и нажал на кнопку ДА - сработает то, что внутри функции\n",
        "\n",
        "@bot.callback_query_handler(func=lambda call: True)\n",
        "def callback_worker(call):\n",
        "    if call.data == \"yes\":\n",
        "        try:\n",
        "            observation = mgr.weather_at_place(stroka)\n",
        "            weather = observation.weather\n",
        "            bot.send_message(call.message.chat.id, f\"Today: {weather.detailed_status}\")\n",
        "            temp = weather.temperature('celsius')\n",
        "            bot.send_message(call.message.chat.id, f\"Temperature is: {temp['temp']}\")\n",
        "            bot.send_message(call.message.chat.id, f\"Temperature max is: {temp['temp_max']}\")\n",
        "            bot.send_message(call.message.chat.id, f\"Temperature min is: {temp['temp_min']}\")\n",
        "            bot.send_message(call.message.chat.id, f\"Feels like: {temp['feels_like']}\")\n",
        "            wind = weather.wind()\n",
        "            bot.send_message(call.message.chat.id, f\"Speed of wind: {wind['speed']}\")\n",
        "            bot.send_message(call.message.chat.id, f\"Gust: {wind['gust']}\")\n",
        "        except TypeError as e:\n",
        "            print(e)"
      ],
      "metadata": {
        "id": "w0jNfZsbqrgC"
      },
      "execution_count": 5,
      "outputs": []
    },
    {
      "cell_type": "code",
      "source": [
        "# Штука, которая зацикливает работу бота и позвоялет обрабатывать много запросов\n",
        "bot.polling(none_stop=True, interval=0)"
      ],
      "metadata": {
        "id": "GBKy_0IFq0Gy"
      },
      "execution_count": null,
      "outputs": []
    }
  ]
}